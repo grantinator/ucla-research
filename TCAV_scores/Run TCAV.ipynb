{
 "cells": [
  {
   "cell_type": "markdown",
   "metadata": {},
   "source": [
    "# Running TCAV\n",
    "\n",
    "\n",
    "This notebook walks you through things you need to run TCAV. In high level, you need:\n",
    "\n",
    "1. **example images in each folder**\n",
    " * images for each concept\n",
    " * images for the class/labels of interest\n",
    " * random images that will be negative examples when learning CAVs (images that probably don't belong to any concepts)\n",
    "2. **model wrapper**: an instance of  ModelWrapper abstract class (in model.py). This tells TCAV class (tcav.py) how to communicate with your model (e.g., getting internal tensors)\n",
    "3. **act_generator**: an instance of ActivationGeneratorInterface that tells TCAV class how to load example data and how to get activations from the model\n",
    "\n",
    "\n",
    "\n",
    "## Requirements\n",
    "\n",
    "    Install sklearn and PIL before running below!"
   ]
  },
  {
   "cell_type": "code",
   "execution_count": 25,
   "metadata": {},
   "outputs": [
    {
     "name": "stdout",
     "output_type": "stream",
     "text": [
      "The autoreload extension is already loaded. To reload it, use:\n",
      "  %reload_ext autoreload\n"
     ]
    }
   ],
   "source": [
    "%load_ext autoreload\n",
    "%autoreload 2"
   ]
  },
  {
   "cell_type": "code",
   "execution_count": 26,
   "metadata": {},
   "outputs": [],
   "source": [
    "import cav as cav\n",
    "import model as model\n",
    "import tcav as tcav\n",
    "import utils as utils\n",
    "import utils_plot as utils_plot # utils_plot requires matplotlib\n",
    "import os\n",
    "import torch\n",
    "import activation_generator as act_gen\n",
    "import tensorflow as tf"
   ]
  },
  {
   "cell_type": "markdown",
   "metadata": {},
   "source": [
    "## Step 1. Store concept and target class images to local folders\n",
    "\n",
    "and tell TCAV where they are.\n",
    "\n",
    "**source_dir**: where images of concepts, target class and random images (negative samples when learning CAVs) live. Each should be a sub-folder within this directory.\n",
    "\n",
    "Note that random image directories can be in any name. In this example, we are using `random500_0`, `random500_1`,.. for an arbitrary reason. \n",
    "\n",
    "\n",
    "You need roughly 50-200 images per concept and target class (10-20 pictures also tend to work, but 200 is pretty safe).\n",
    "\n",
    "\n",
    "**cav_dir**: directory to store CAVs (`None` if you don't want to store)\n",
    "\n",
    "**target, concept**: names of the target class (that you want to investigate) and concepts (strings) - these are folder names in source_dir\n",
    "\n",
    "**bottlenecks**: list of bottleneck names (intermediate layers in your model) that you want to use for TCAV. These names are defined in the model wrapper below.\n",
    "\n"
   ]
  },
  {
   "cell_type": "code",
   "execution_count": 28,
   "metadata": {},
   "outputs": [],
   "source": [
    "working_dir = '/Users/grantbaum/Desktop/tcav_class_test'\n",
    "activation_dir =  working_dir + '/activations/'\n",
    "cav_dir = working_dir + '/cavs/'\n",
    "source_dir = \"/Users/grantbaum/Desktop/image_net_subsets/\"\n",
    "bottlenecks = ['Mixed_5d', 'Conv2d_2a_3x3']\n",
    "      \n",
    "utils.make_dir_if_not_exists(activation_dir)\n",
    "utils.make_dir_if_not_exists(working_dir)\n",
    "utils.make_dir_if_not_exists(cav_dir)\n",
    "\n",
    "# this is a regularizer penalty parameter for linear classifier to get CAVs. \n",
    "alphas = [0.1]   \n",
    "\n",
    "target = 'pretzel'  \n",
    "concepts = ['knot']\n",
    "random_counterpart = 'random500_0'\n",
    "\n",
    "\n",
    "LABEL_PATH = working_dir + '/imagenet_comp_graph_label_strings.txt'"
   ]
  },
  {
   "cell_type": "code",
   "execution_count": 29,
   "metadata": {},
   "outputs": [],
   "source": [
    "mymodel = model.InceptionV3Wrapper(LABEL_PATH)"
   ]
  },
  {
   "cell_type": "markdown",
   "metadata": {},
   "source": [
    "## Step 3. Implement a class that returns activations (maybe with caching!)\n",
    "\n",
    "Lastly, you will implement a class of the ActivationGenerationInterface which TCAV uses to load example data for a given concept or target, call into your model wrapper and return activations. I pulled out this logic outside of mymodel because this step often takes the longest. By making it modular, you can cache your activations and/or parallelize your computations, as I have done in `ActivationGeneratorBase.process_and_load_activations` in `activation_generator.py`.\n",
    "\n",
    "\n",
    "The `process_and_load_activations` method of the activation generator must return a dictionary of activations that has concept or target name as  a first key, and the bottleneck name as a second key. So something like:\n",
    "\n",
    "```python\n",
    "{concept1: {bottleneck1: [[0.2, 0.1, ....]]},\n",
    "concept2: {bottleneck1: [[0.1, 0.02, ....]]},\n",
    "target1: {bottleneck1: [[0.02, 0.99, ....]]}\n",
    "```\n"
   ]
  },
  {
   "cell_type": "code",
   "execution_count": 30,
   "metadata": {},
   "outputs": [],
   "source": [
    "act_generator = act_gen.ImageActivationGenerator(mymodel, source_dir, activation_dir, max_examples=100)"
   ]
  },
  {
   "cell_type": "markdown",
   "metadata": {},
   "source": [
    "## You are ready to run TCAV!\n",
    "\n",
    "Let's do it.\n",
    "\n",
    "**num_random_exp**: number of experiments to confirm meaningful concept direction. TCAV will search for this many folders named `random500_0`, `random500_1`, etc. You can alternatively set the `random_concepts` keyword to be a list of folders of random concepts. Run at least 10-20 for meaningful tests. \n",
    "\n",
    "**random_counterpart**: as well as the above, you can optionally supply a single folder with random images as the \"positive set\" for statistical testing. Reduces computation time at the cost of less reliable random TCAV scores. \n"
   ]
  },
  {
   "cell_type": "code",
   "execution_count": 32,
   "metadata": {
    "scrolled": false
   },
   "outputs": [
    {
     "name": "stdout",
     "output_type": "stream",
     "text": [
      "['/Users/grantbaum/Desktop/image_net_subsets/knot/Unknown-1.jpeg', '/Users/grantbaum/Desktop/image_net_subsets/knot/.DS_Store', '/Users/grantbaum/Desktop/image_net_subsets/knot/images.jpeg', '/Users/grantbaum/Desktop/image_net_subsets/knot/maxresdefault.jpg', '/Users/grantbaum/Desktop/image_net_subsets/knot/Knot_rope2.JPG', '/Users/grantbaum/Desktop/image_net_subsets/knot/ArticleImageHandler.ashx.jpeg', '/Users/grantbaum/Desktop/image_net_subsets/knot/file-20190208-174864-1l1rftf.jpg', '/Users/grantbaum/Desktop/image_net_subsets/knot/Figure-Eight.jpg', '/Users/grantbaum/Desktop/image_net_subsets/knot/hemp-rope-bow-knot-on-260nw-1201740160.jpg.jp2', '/Users/grantbaum/Desktop/image_net_subsets/knot/square-knot.jpg', '/Users/grantbaum/Desktop/image_net_subsets/knot/rope.jpg', '/Users/grantbaum/Desktop/image_net_subsets/knot/ohk-large.jpg', '/Users/grantbaum/Desktop/image_net_subsets/knot/images-1.jpeg', '/Users/grantbaum/Desktop/image_net_subsets/knot/why-is-a-ships-speed-measured-in-knotss-featured-photo.jpg', '/Users/grantbaum/Desktop/image_net_subsets/knot/Unknown.jpeg', '/Users/grantbaum/Desktop/image_net_subsets/knot/sauvastika-done-big.jpg', '/Users/grantbaum/Desktop/image_net_subsets/knot/712bCTydfZL._SY355_.png.jpeg']\n",
      "['/Users/grantbaum/Desktop/image_net_subsets/knot/Unknown-1.jpeg', '/Users/grantbaum/Desktop/image_net_subsets/knot/.DS_Store', '/Users/grantbaum/Desktop/image_net_subsets/knot/images.jpeg', '/Users/grantbaum/Desktop/image_net_subsets/knot/maxresdefault.jpg', '/Users/grantbaum/Desktop/image_net_subsets/knot/Knot_rope2.JPG', '/Users/grantbaum/Desktop/image_net_subsets/knot/ArticleImageHandler.ashx.jpeg', '/Users/grantbaum/Desktop/image_net_subsets/knot/file-20190208-174864-1l1rftf.jpg', '/Users/grantbaum/Desktop/image_net_subsets/knot/Figure-Eight.jpg', '/Users/grantbaum/Desktop/image_net_subsets/knot/hemp-rope-bow-knot-on-260nw-1201740160.jpg.jp2', '/Users/grantbaum/Desktop/image_net_subsets/knot/square-knot.jpg', '/Users/grantbaum/Desktop/image_net_subsets/knot/rope.jpg', '/Users/grantbaum/Desktop/image_net_subsets/knot/ohk-large.jpg', '/Users/grantbaum/Desktop/image_net_subsets/knot/images-1.jpeg', '/Users/grantbaum/Desktop/image_net_subsets/knot/why-is-a-ships-speed-measured-in-knotss-featured-photo.jpg', '/Users/grantbaum/Desktop/image_net_subsets/knot/Unknown.jpeg', '/Users/grantbaum/Desktop/image_net_subsets/knot/sauvastika-done-big.jpg', '/Users/grantbaum/Desktop/image_net_subsets/knot/712bCTydfZL._SY355_.png.jpeg']\n",
      "['/Users/grantbaum/Desktop/image_net_subsets/knot/Unknown-1.jpeg', '/Users/grantbaum/Desktop/image_net_subsets/knot/.DS_Store', '/Users/grantbaum/Desktop/image_net_subsets/knot/images.jpeg', '/Users/grantbaum/Desktop/image_net_subsets/knot/maxresdefault.jpg', '/Users/grantbaum/Desktop/image_net_subsets/knot/Knot_rope2.JPG', '/Users/grantbaum/Desktop/image_net_subsets/knot/ArticleImageHandler.ashx.jpeg', '/Users/grantbaum/Desktop/image_net_subsets/knot/file-20190208-174864-1l1rftf.jpg', '/Users/grantbaum/Desktop/image_net_subsets/knot/Figure-Eight.jpg', '/Users/grantbaum/Desktop/image_net_subsets/knot/hemp-rope-bow-knot-on-260nw-1201740160.jpg.jp2', '/Users/grantbaum/Desktop/image_net_subsets/knot/square-knot.jpg', '/Users/grantbaum/Desktop/image_net_subsets/knot/rope.jpg', '/Users/grantbaum/Desktop/image_net_subsets/knot/ohk-large.jpg', '/Users/grantbaum/Desktop/image_net_subsets/knot/images-1.jpeg', '/Users/grantbaum/Desktop/image_net_subsets/knot/why-is-a-ships-speed-measured-in-knotss-featured-photo.jpg', '/Users/grantbaum/Desktop/image_net_subsets/knot/Unknown.jpeg', '/Users/grantbaum/Desktop/image_net_subsets/knot/sauvastika-done-big.jpg', '/Users/grantbaum/Desktop/image_net_subsets/knot/712bCTydfZL._SY355_.png.jpeg']\n",
      "['/Users/grantbaum/Desktop/image_net_subsets/knot/Unknown-1.jpeg', '/Users/grantbaum/Desktop/image_net_subsets/knot/.DS_Store', '/Users/grantbaum/Desktop/image_net_subsets/knot/images.jpeg', '/Users/grantbaum/Desktop/image_net_subsets/knot/maxresdefault.jpg', '/Users/grantbaum/Desktop/image_net_subsets/knot/Knot_rope2.JPG', '/Users/grantbaum/Desktop/image_net_subsets/knot/ArticleImageHandler.ashx.jpeg', '/Users/grantbaum/Desktop/image_net_subsets/knot/file-20190208-174864-1l1rftf.jpg', '/Users/grantbaum/Desktop/image_net_subsets/knot/Figure-Eight.jpg', '/Users/grantbaum/Desktop/image_net_subsets/knot/hemp-rope-bow-knot-on-260nw-1201740160.jpg.jp2', '/Users/grantbaum/Desktop/image_net_subsets/knot/square-knot.jpg', '/Users/grantbaum/Desktop/image_net_subsets/knot/rope.jpg', '/Users/grantbaum/Desktop/image_net_subsets/knot/ohk-large.jpg', '/Users/grantbaum/Desktop/image_net_subsets/knot/images-1.jpeg', '/Users/grantbaum/Desktop/image_net_subsets/knot/why-is-a-ships-speed-measured-in-knotss-featured-photo.jpg', '/Users/grantbaum/Desktop/image_net_subsets/knot/Unknown.jpeg', '/Users/grantbaum/Desktop/image_net_subsets/knot/sauvastika-done-big.jpg', '/Users/grantbaum/Desktop/image_net_subsets/knot/712bCTydfZL._SY355_.png.jpeg']\n"
     ]
    }
   ],
   "source": [
    "tf.logging.set_verbosity(0)\n",
    "\n",
    "num_random_exp=2 # folders (random500_0, random500_1)\n",
    "\n",
    "mytcav = tcav.TCAV(target,\n",
    "                   concepts,\n",
    "                   bottlenecks,\n",
    "                   act_generator,\n",
    "                   alphas,\n",
    "                   cav_dir=cav_dir,\n",
    "                   num_random_exp=num_random_exp)\n",
    "\n",
    "results = mytcav.run()"
   ]
  },
  {
   "cell_type": "code",
   "execution_count": 33,
   "metadata": {
    "scrolled": true
   },
   "outputs": [
    {
     "name": "stdout",
     "output_type": "stream",
     "text": [
      "Class = pretzel\n",
      "  Concept = knot\n",
      "    Bottleneck = Mixed_5d. TCAV Score = 0.47 (+- 0.00), random was 0.50 (+- 0.03). p-val = 0.423 (not significant)\n",
      "    Bottleneck = Conv2d_2a_3x3. TCAV Score = 0.70 (+- 0.10), random was 0.43 (+- 0.03). p-val = 0.127 (not significant)\n"
     ]
    },
    {
     "data": {
      "image/png": "[encoded data removed]",
      "text/plain": [
       "<Figure size 432x288 with 1 Axes>"
      ]
     },
     "metadata": {
      "needs_background": "light"
     },
     "output_type": "display_data"
    }
   ],
   "source": [
    "utils_plot.plot_results(results, num_random_exp=num_random_exp)"
   ]
  },
  {
   "cell_type": "markdown",
   "metadata": {},
   "source": [
    "# Result\n",
    "## Concept = Knot\n",
    "\n",
    "## Target = Pretzel"
   ]
  }
 ],
 "metadata": {
  "kernelspec": {
   "display_name": "Python 3",
   "language": "python",
   "name": "python3"
  },
  "language_info": {
   "codemirror_mode": {
    "name": "ipython",
    "version": 3
   },
   "file_extension": ".py",
   "mimetype": "text/x-python",
   "name": "python",
   "nbconvert_exporter": "python",
   "pygments_lexer": "ipython3",
   "version": "3.7.1"
  }
 },
 "nbformat": 4,
 "nbformat_minor": 2
}
