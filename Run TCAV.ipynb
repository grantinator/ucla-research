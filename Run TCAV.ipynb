{
 "cells": [
  {
   "cell_type": "markdown",
   "metadata": {},
   "source": [
    "# Running TCAV\n",
    "\n",
    "\n",
    "This notebook walks you through things you need to run TCAV. In high level, you need:\n",
    "\n",
    "1. **example images in each folder**\n",
    " * images for each concept\n",
    " * images for the class/labels of interest\n",
    " * random images that will be negative examples when learning CAVs (images that probably don't belong to any concepts)\n",
    "2. **model wrapper**: an instance of  ModelWrapper abstract class (in model.py). This tells TCAV class (tcav.py) how to communicate with your model (e.g., getting internal tensors)\n",
    "3. **act_generator**: an instance of ActivationGeneratorInterface that tells TCAV class how to load example data and how to get activations from the model\n",
    "\n",
    "\n",
    "\n",
    "## Requirements\n",
    "\n",
    "    Install sklearn and PIL before running below!"
   ]
  },
  {
   "cell_type": "code",
   "execution_count": 1,
   "metadata": {},
   "outputs": [],
   "source": [
    "%load_ext autoreload\n",
    "%autoreload 2"
   ]
  },
  {
   "cell_type": "code",
   "execution_count": 2,
   "metadata": {},
   "outputs": [],
   "source": [
    "import cav as cav\n",
    "import model as model\n",
    "import tcav as tcav\n",
    "import utils as utils\n",
    "import utils_plot as utils_plot # utils_plot requires matplotlib\n",
    "import os\n",
    "import torch\n",
    "import activation_generator as act_gen\n",
    "import tensorflow as tf"
   ]
  },
  {
   "cell_type": "markdown",
   "metadata": {},
   "source": [
    "## Step 1. Store concept and target class images to local folders\n",
    "\n",
    "and tell TCAV where they are.\n",
    "\n",
    "**source_dir**: where images of concepts, target class and random images (negative samples when learning CAVs) live. Each should be a sub-folder within this directory.\n",
    "\n",
    "Note that random image directories can be in any name. In this example, we are using `random500_0`, `random500_1`,.. for an arbitrary reason. \n",
    "\n",
    "\n",
    "You need roughly 50-200 images per concept and target class (10-20 pictures also tend to work, but 200 is pretty safe).\n",
    "\n",
    "\n",
    "**cav_dir**: directory to store CAVs (`None` if you don't want to store)\n",
    "\n",
    "**target, concept**: names of the target class (that you want to investigate) and concepts (strings) - these are folder names in source_dir\n",
    "\n",
    "**bottlenecks**: list of bottleneck names (intermediate layers in your model) that you want to use for TCAV. These names are defined in the model wrapper below.\n",
    "\n"
   ]
  },
  {
   "cell_type": "code",
   "execution_count": 16,
   "metadata": {},
   "outputs": [],
   "source": [
    "working_dir = '/Users/grantbaum/Desktop/tcav_class_test'\n",
    "activation_dir =  working_dir + '/activations/'\n",
    "cav_dir = working_dir + '/cavs/'\n",
    "source_dir = \"/Users/grantbaum/Desktop/image_net_subsets/\"\n",
    "bottlenecks = ['Mixed_5d', 'Conv2d_2a_3x3']\n",
    "      \n",
    "utils.make_dir_if_not_exists(activation_dir)\n",
    "utils.make_dir_if_not_exists(working_dir)\n",
    "utils.make_dir_if_not_exists(cav_dir)\n",
    "\n",
    "# this is a regularizer penalty parameter for linear classifier to get CAVs. \n",
    "alphas = [0.1]   \n",
    "\n",
    "target = 'Yorkshire terrier'  \n",
    "concepts = [\"dogness\"]\n",
    "random_counterpart = 'random500_0'\n",
    "\n",
    "\n",
    "LABEL_PATH = working_dir + '/imagenet_comp_graph_label_strings.txt'"
   ]
  },
  {
   "cell_type": "code",
   "execution_count": 17,
   "metadata": {},
   "outputs": [],
   "source": [
    "mymodel = model.InceptionV3Wrapper(LABEL_PATH)"
   ]
  },
  {
   "cell_type": "markdown",
   "metadata": {},
   "source": [
    "## Step 3. Implement a class that returns activations (maybe with caching!)\n",
    "\n",
    "Lastly, you will implement a class of the ActivationGenerationInterface which TCAV uses to load example data for a given concept or target, call into your model wrapper and return activations. I pulled out this logic outside of mymodel because this step often takes the longest. By making it modular, you can cache your activations and/or parallelize your computations, as I have done in `ActivationGeneratorBase.process_and_load_activations` in `activation_generator.py`.\n",
    "\n",
    "\n",
    "The `process_and_load_activations` method of the activation generator must return a dictionary of activations that has concept or target name as  a first key, and the bottleneck name as a second key. So something like:\n",
    "\n",
    "```python\n",
    "{concept1: {bottleneck1: [[0.2, 0.1, ....]]},\n",
    "concept2: {bottleneck1: [[0.1, 0.02, ....]]},\n",
    "target1: {bottleneck1: [[0.02, 0.99, ....]]}\n",
    "```\n"
   ]
  },
  {
   "cell_type": "code",
   "execution_count": 21,
   "metadata": {},
   "outputs": [],
   "source": [
    "act_generator = act_gen.ImageActivationGenerator(mymodel, source_dir, activation_dir, max_examples=100)"
   ]
  },
  {
   "cell_type": "markdown",
   "metadata": {},
   "source": [
    "## You are ready to run TCAV!\n",
    "\n",
    "Let's do it.\n",
    "\n",
    "**num_random_exp**: number of experiments to confirm meaningful concept direction. TCAV will search for this many folders named `random500_0`, `random500_1`, etc. You can alternatively set the `random_concepts` keyword to be a list of folders of random concepts. Run at least 10-20 for meaningful tests. \n",
    "\n",
    "**random_counterpart**: as well as the above, you can optionally supply a single folder with random images as the \"positive set\" for statistical testing. Reduces computation time at the cost of less reliable random TCAV scores. \n"
   ]
  },
  {
   "cell_type": "code",
   "execution_count": 23,
   "metadata": {
    "scrolled": false
   },
   "outputs": [
    {
     "name": "stdout",
     "output_type": "stream",
     "text": [
      "['/Users/grantbaum/Desktop/image_net_subsets/dogness/Labradoodle-Medium-Dogs-that-Dont-Shed.jpg', '/Users/grantbaum/Desktop/image_net_subsets/dogness/n02085620_20.JPEG', '/Users/grantbaum/Desktop/image_net_subsets/dogness/n02085620_41.JPEG', '/Users/grantbaum/Desktop/image_net_subsets/dogness/n02106662_18.JPEG', '/Users/grantbaum/Desktop/image_net_subsets/dogness/n02099712_12.JPEG', '/Users/grantbaum/Desktop/image_net_subsets/dogness/n02099601_7.JPEG', '/Users/grantbaum/Desktop/image_net_subsets/dogness/n02106662_2.JPEG', '/Users/grantbaum/Desktop/image_net_subsets/dogness/n02106662_23.JPEG', '/Users/grantbaum/Desktop/image_net_subsets/dogness/n02106662_3.JPEG', '/Users/grantbaum/Desktop/image_net_subsets/dogness/n02099601_33.JPEG', '/Users/grantbaum/Desktop/image_net_subsets/dogness/.DS_Store', '/Users/grantbaum/Desktop/image_net_subsets/dogness/n02099712_13.JPEG', '/Users/grantbaum/Desktop/image_net_subsets/dogness/n02085620_40.JPEG', '/Users/grantbaum/Desktop/image_net_subsets/dogness/feature.png', '/Users/grantbaum/Desktop/image_net_subsets/dogness/n02099712_33.JPEG', '/Users/grantbaum/Desktop/image_net_subsets/dogness/n02099601_13.JPEG', '/Users/grantbaum/Desktop/image_net_subsets/dogness/n02099601_1.JPEG', '/Users/grantbaum/Desktop/image_net_subsets/dogness/n02106662_12.JPEG', '/Users/grantbaum/Desktop/image_net_subsets/dogness/n02099712_63.JPEG', '/Users/grantbaum/Desktop/image_net_subsets/dogness/n02106662_8.JPEG', '/Users/grantbaum/Desktop/image_net_subsets/dogness/n02099712_22.JPEG', '/Users/grantbaum/Desktop/image_net_subsets/dogness/n02099712_8.JPEG', '/Users/grantbaum/Desktop/image_net_subsets/dogness/n02099712_62.JPEG', '/Users/grantbaum/Desktop/image_net_subsets/dogness/n02106662_5.JPEG', '/Users/grantbaum/Desktop/image_net_subsets/dogness/n02099601_23.JPEG', '/Users/grantbaum/Desktop/image_net_subsets/dogness/n02099601_0.JPEG', '/Users/grantbaum/Desktop/image_net_subsets/dogness/n02099712_39.JPEG', '/Users/grantbaum/Desktop/image_net_subsets/dogness/n02099712_42.JPEG', '/Users/grantbaum/Desktop/image_net_subsets/dogness/n02099601_19.JPEG', '/Users/grantbaum/Desktop/image_net_subsets/dogness/n02085620_0.JPEG', '/Users/grantbaum/Desktop/image_net_subsets/dogness/n02085620_11.JPEG', '/Users/grantbaum/Desktop/image_net_subsets/dogness/n02099712_54.JPEG', '/Users/grantbaum/Desktop/image_net_subsets/dogness/n02085620_28.JPEG', '/Users/grantbaum/Desktop/image_net_subsets/dogness/n02085620_3.JPEG', '/Users/grantbaum/Desktop/image_net_subsets/dogness/n02099712_57.JPEG', '/Users/grantbaum/Desktop/image_net_subsets/dogness/n02085620_32.JPEG', '/Users/grantbaum/Desktop/image_net_subsets/dogness/n02099601_16.JPEG', '/Users/grantbaum/Desktop/image_net_subsets/dogness/curly-red-2-1024x683.jpg', '/Users/grantbaum/Desktop/image_net_subsets/dogness/SP2501_1.jpg', '/Users/grantbaum/Desktop/image_net_subsets/dogness/n02085620_25.JPEG', '/Users/grantbaum/Desktop/image_net_subsets/dogness/n02099712_21.JPEG', '/Users/grantbaum/Desktop/image_net_subsets/dogness/n02099712_56.JPEG', '/Users/grantbaum/Desktop/image_net_subsets/dogness/n02099601_21.JPEG', '/Users/grantbaum/Desktop/image_net_subsets/dogness/n02099712_26.JPEG', '/Users/grantbaum/Desktop/image_net_subsets/dogness/n02085620_22.JPEG', '/Users/grantbaum/Desktop/image_net_subsets/dogness/n02085620_38.JPEG', '/Users/grantbaum/Desktop/image_net_subsets/dogness/n02106662_0.JPEG', '/Users/grantbaum/Desktop/image_net_subsets/dogness/n02099712_1.JPEG', '/Users/grantbaum/Desktop/image_net_subsets/dogness/alp-_ll1.jpg', '/Users/grantbaum/Desktop/image_net_subsets/dogness/n02085620_4.JPEG', '/Users/grantbaum/Desktop/image_net_subsets/dogness/n02099601_31.JPEG', '/Users/grantbaum/Desktop/image_net_subsets/dogness/n02085620_8.JPEG', '/Users/grantbaum/Desktop/image_net_subsets/dogness/n02106662_17.JPEG', '/Users/grantbaum/Desktop/image_net_subsets/dogness/n02099601_11.JPEG']\n",
      "['/Users/grantbaum/Desktop/image_net_subsets/dogness/Labradoodle-Medium-Dogs-that-Dont-Shed.jpg', '/Users/grantbaum/Desktop/image_net_subsets/dogness/n02085620_20.JPEG', '/Users/grantbaum/Desktop/image_net_subsets/dogness/n02085620_41.JPEG', '/Users/grantbaum/Desktop/image_net_subsets/dogness/n02106662_18.JPEG', '/Users/grantbaum/Desktop/image_net_subsets/dogness/n02099712_12.JPEG', '/Users/grantbaum/Desktop/image_net_subsets/dogness/n02099601_7.JPEG', '/Users/grantbaum/Desktop/image_net_subsets/dogness/n02106662_2.JPEG', '/Users/grantbaum/Desktop/image_net_subsets/dogness/n02106662_23.JPEG', '/Users/grantbaum/Desktop/image_net_subsets/dogness/n02106662_3.JPEG', '/Users/grantbaum/Desktop/image_net_subsets/dogness/n02099601_33.JPEG', '/Users/grantbaum/Desktop/image_net_subsets/dogness/.DS_Store', '/Users/grantbaum/Desktop/image_net_subsets/dogness/n02099712_13.JPEG', '/Users/grantbaum/Desktop/image_net_subsets/dogness/n02085620_40.JPEG', '/Users/grantbaum/Desktop/image_net_subsets/dogness/feature.png', '/Users/grantbaum/Desktop/image_net_subsets/dogness/n02099712_33.JPEG', '/Users/grantbaum/Desktop/image_net_subsets/dogness/n02099601_13.JPEG', '/Users/grantbaum/Desktop/image_net_subsets/dogness/n02099601_1.JPEG', '/Users/grantbaum/Desktop/image_net_subsets/dogness/n02106662_12.JPEG', '/Users/grantbaum/Desktop/image_net_subsets/dogness/n02099712_63.JPEG', '/Users/grantbaum/Desktop/image_net_subsets/dogness/n02106662_8.JPEG', '/Users/grantbaum/Desktop/image_net_subsets/dogness/n02099712_22.JPEG', '/Users/grantbaum/Desktop/image_net_subsets/dogness/n02099712_8.JPEG', '/Users/grantbaum/Desktop/image_net_subsets/dogness/n02099712_62.JPEG', '/Users/grantbaum/Desktop/image_net_subsets/dogness/n02106662_5.JPEG', '/Users/grantbaum/Desktop/image_net_subsets/dogness/n02099601_23.JPEG', '/Users/grantbaum/Desktop/image_net_subsets/dogness/n02099601_0.JPEG', '/Users/grantbaum/Desktop/image_net_subsets/dogness/n02099712_39.JPEG', '/Users/grantbaum/Desktop/image_net_subsets/dogness/n02099712_42.JPEG', '/Users/grantbaum/Desktop/image_net_subsets/dogness/n02099601_19.JPEG', '/Users/grantbaum/Desktop/image_net_subsets/dogness/n02085620_0.JPEG', '/Users/grantbaum/Desktop/image_net_subsets/dogness/n02085620_11.JPEG', '/Users/grantbaum/Desktop/image_net_subsets/dogness/n02099712_54.JPEG', '/Users/grantbaum/Desktop/image_net_subsets/dogness/n02085620_28.JPEG', '/Users/grantbaum/Desktop/image_net_subsets/dogness/n02085620_3.JPEG', '/Users/grantbaum/Desktop/image_net_subsets/dogness/n02099712_57.JPEG', '/Users/grantbaum/Desktop/image_net_subsets/dogness/n02085620_32.JPEG', '/Users/grantbaum/Desktop/image_net_subsets/dogness/n02099601_16.JPEG', '/Users/grantbaum/Desktop/image_net_subsets/dogness/curly-red-2-1024x683.jpg', '/Users/grantbaum/Desktop/image_net_subsets/dogness/SP2501_1.jpg', '/Users/grantbaum/Desktop/image_net_subsets/dogness/n02085620_25.JPEG', '/Users/grantbaum/Desktop/image_net_subsets/dogness/n02099712_21.JPEG', '/Users/grantbaum/Desktop/image_net_subsets/dogness/n02099712_56.JPEG', '/Users/grantbaum/Desktop/image_net_subsets/dogness/n02099601_21.JPEG', '/Users/grantbaum/Desktop/image_net_subsets/dogness/n02099712_26.JPEG', '/Users/grantbaum/Desktop/image_net_subsets/dogness/n02085620_22.JPEG', '/Users/grantbaum/Desktop/image_net_subsets/dogness/n02085620_38.JPEG', '/Users/grantbaum/Desktop/image_net_subsets/dogness/n02106662_0.JPEG', '/Users/grantbaum/Desktop/image_net_subsets/dogness/n02099712_1.JPEG', '/Users/grantbaum/Desktop/image_net_subsets/dogness/alp-_ll1.jpg', '/Users/grantbaum/Desktop/image_net_subsets/dogness/n02085620_4.JPEG', '/Users/grantbaum/Desktop/image_net_subsets/dogness/n02099601_31.JPEG', '/Users/grantbaum/Desktop/image_net_subsets/dogness/n02085620_8.JPEG', '/Users/grantbaum/Desktop/image_net_subsets/dogness/n02106662_17.JPEG', '/Users/grantbaum/Desktop/image_net_subsets/dogness/n02099601_11.JPEG']\n"
     ]
    }
   ],
   "source": [
    "tf.logging.set_verbosity(0)\n",
    "\n",
    "num_random_exp=2 # folders (random500_0, random500_1)\n",
    "\n",
    "mytcav = tcav.TCAV(target,\n",
    "                   concepts,\n",
    "                   bottlenecks,\n",
    "                   act_generator,\n",
    "                   alphas,\n",
    "                   cav_dir=cav_dir,\n",
    "                   num_random_exp=num_random_exp)\n",
    "\n",
    "results = mytcav.run()"
   ]
  },
  {
   "cell_type": "code",
   "execution_count": 24,
   "metadata": {
    "scrolled": true
   },
   "outputs": [
    {
     "name": "stdout",
     "output_type": "stream",
     "text": [
      "Class = Yorkshire terrier\n",
      "  Concept = dogness\n",
      "    Bottleneck = Mixed_5d. TCAV Score = 0.35 (+- 0.05), random was 0.50 (+- 0.15). p-val = 0.443 (not significant)\n",
      "    Bottleneck = Conv2d_2a_3x3. TCAV Score = 0.45 (+- 0.00), random was 0.57 (+- 0.02). p-val = 0.038 (significant)\n"
     ]
    },
    {
     "data": {
      "image/png": "[encoded data removed]",
      "text/plain": [
       "<Figure size 432x288 with 1 Axes>"
      ]
     },
     "metadata": {
      "needs_background": "light"
     },
     "output_type": "display_data"
    }
   ],
   "source": [
    "utils_plot.plot_results(results, num_random_exp=num_random_exp)"
   ]
  },
  {
   "cell_type": "markdown",
   "metadata": {},
   "source": [
    "# Result\n",
    "## Concept = Dogness\n",
    "    Now concept is dogness which is represented by a collection of images of different breeds, sizes, and colors of dogs as well as some images of dog statues. \n",
    "## Target = Yorkshire Terrier\n",
    "\n",
    "Goal here is just to make sure that the TCAV actually works. Obviously dogness should have a high influence on the prediction of yorkshire terrier which we see is the case so everything is working fine. "
   ]
  }
 ],
 "metadata": {
  "kernelspec": {
   "display_name": "Python 3",
   "language": "python",
   "name": "python3"
  },
  "language_info": {
   "codemirror_mode": {
    "name": "ipython",
    "version": 3
   },
   "file_extension": ".py",
   "mimetype": "text/x-python",
   "name": "python",
   "nbconvert_exporter": "python",
   "pygments_lexer": "ipython3",
   "version": "3.7.1"
  }
 },
 "nbformat": 4,
 "nbformat_minor": 2
}
